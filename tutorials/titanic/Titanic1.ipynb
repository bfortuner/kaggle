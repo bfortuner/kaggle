{
 "cells": [
  {
   "cell_type": "markdown",
   "metadata": {
    "nbpresent": {
     "id": "d054bb17-438e-4279-ae42-e783e95f61fa"
    }
   },
   "source": [
    "# Titanic\n",
    "\n",
    "Based on the titanic tutorial here: https://www.kaggle.com/c/titanic/details/getting-started-with-python"
   ]
  },
  {
   "cell_type": "code",
   "execution_count": 65,
   "metadata": {
    "collapsed": false
   },
   "outputs": [],
   "source": [
    "# The first thing to do is to import the relevant packages\n",
    "# that I will need for my script, \n",
    "# these include the Numpy (for maths and arrays)\n",
    "# and csv for reading and writing csv files\n",
    "# If i want to use something from this I need to call \n",
    "# csv.[function] or np.[function] first\n",
    "\n",
    "import csv as csv \n",
    "import numpy as np\n",
    "\n",
    "# Open up the csv file in to a Python object\n",
    "csv_file_object = csv.reader(open('data/train.csv', 'rb')) \n",
    "\n",
    "headers = csv_file_object.next()\n",
    "data = []                        # Create a variable called 'data'.\n",
    "for row in csv_file_object:      # Run through each row in the csv file,\n",
    "    data.append(row)             # adding each row to the data variable\n",
    "data = np.array(data)            # Then convert from a list to an array\n",
    "                                 # Be aware that each item is currently\n",
    "                                 # a string in this format"
   ]
  },
  {
   "cell_type": "code",
   "execution_count": 66,
   "metadata": {
    "collapsed": false
   },
   "outputs": [
    {
     "name": "stdout",
     "output_type": "stream",
     "text": [
      "['PassengerId', 'Survived', 'Pclass', 'Name', 'Sex', 'Age', 'SibSp', 'Parch', 'Ticket', 'Fare', 'Cabin', 'Embarked']\n",
      "['1' '0' '3' 'Braund, Mr. Owen Harris' 'male' '22' '1' '0' 'A/5 21171'\n",
      " '7.25' '' 'S']\n",
      "Braund, Mr. Owen Harris\n"
     ]
    }
   ],
   "source": [
    "print headers\n",
    "print data[0]\n",
    "print data[0,3]    #print 4th column in 1st row"
   ]
  },
  {
   "cell_type": "raw",
   "metadata": {},
   "source": [
    "Numpy Array Operations"
   ]
  },
  {
   "cell_type": "code",
   "execution_count": 67,
   "metadata": {
    "collapsed": false
   },
   "outputs": [
    {
     "name": "stdout",
     "output_type": "stream",
     "text": [
      "[0 1 1 1 0 0 0 0 1 1 1 1 0 0 0 1 0 1 0 1 0 1 1 1 0 1 0 0 1 0 0 1 1 0 0 0 1\n",
      " 0 0 1 0 0 0 1 1 0 0 1 0 0 0 0 1 1 0 1 1 0 1 0 0 1 0 0 0 1 1 0 1 0 0 0 0 0\n",
      " 1 0 0 0 1 1 0 1 1 0 1 1 0 0 1 0 0 0 0 0 0 0 0 1 1 0 0 0 0 0 0 0 1 1 0 1 0\n",
      " 0 0 0 0 0 0 0 0 0 0 0 0 1 0 1 0 1 1 0 0 0 0 1 0 0 1 0 0 0 0 1 1 0 0 0 1 0\n",
      " 0 0 0 1 0 0 0 0 1 0 0 0 0 1 0 0 0 1 1 0 0 0 0 0 1 0 0 0 0 0 0 0 0 0 0 1 1\n",
      " 0 1 1 0 0 1 0 1 1 1 1 0 0 1 0 0 0 0 0 1 0 0 1 1 1 0 1 0 0 0 1 1 0 1 0 1 0\n",
      " 0 0 1 0 1 0 0 0 1 0 0 1 0 0 0 1 0 0 0 1 0 0 0 0 0 1 1 0 0 0 0 0 0 1 1 1 1\n",
      " 1 0 1 0 0 0 0 0 1 1 1 0 1 1 0 1 1 0 0 0 1 0 0 0 1 0 0 1 0 1 1 1 1 0 0 0 0\n",
      " 0 0 1 1 1 1 0 1 0 1 1 1 0 1 1 1 0 0 0 1 1 0 1 1 0 0 1 1 0 1 0 1 1 1 1 0 0\n",
      " 0 1 0 0 1 1 0 1 1 0 0 0 1 1 1 1 0 0 0 0 0 0 0 1 0 1 1 0 0 0 0 0 0 1 1 1 1\n",
      " 1 0 0 0 0 1 1 0 0 0 1 1 0 1 0 0 0 1 0 1 1 1 0 1 1 0 0 0 0 1 1 0 0 0 0 0 0\n",
      " 1 0 0 0 0 1 0 1 0 1 1 0 0 0 0 0 0 0 0 1 1 0 1 1 1 1 0 0 1 0 1 0 0 1 0 0 1\n",
      " 1 1 1 1 1 1 0 0 0 1 0 1 0 1 1 0 1 0 0 0 0 0 0 0 0 1 0 0 1 1 0 0 0 0 0 1 0\n",
      " 0 0 1 1 0 1 0 0 1 0 0 0 0 0 0 1 0 0 0 0 0 0 0 1 0 1 1 0 1 1 0 1 1 0 0 1 0\n",
      " 1 0 1 0 0 1 0 0 1 0 0 0 1 0 0 1 0 1 0 1 0 1 1 0 0 1 0 0 1 1 0 1 1 0 0 1 1\n",
      " 0 1 0 1 1 0 0 0 0 0 0 0 0 0 1 1 1 1 1 0 0 1 1 0 1 1 1 0 0 0 1 0 1 0 0 0 1\n",
      " 0 0 0 0 1 0 0 1 1 0 0 0 1 0 0 1 1 1 0 0 1 0 0 1 0 0 1 0 0 1 1 0 0 0 0 1 0\n",
      " 0 1 0 1 0 0 1 0 0 0 0 0 1 0 1 1 1 0 1 0 1 0 1 0 1 0 0 0 0 0 0 1 0 0 0 1 0\n",
      " 0 0 0 1 1 0 0 1 0 0 0 1 0 1 0 1 0 0 0 0 0 0 0 1 1 1 1 0 0 0 0 1 0 0 1 1 0\n",
      " 0 0 0 1 1 1 1 1 0 1 0 0 0 1 1 0 0 1 0 0 0 1 0 1 1 0 0 1 0 0 0 0 0 0 1 0 0\n",
      " 1 0 1 0 1 0 0 1 0 0 1 1 0 0 1 1 0 0 0 1 0 0 1 1 0 1 0 0 0 0 0 0 0 0 1 0 0\n",
      " 1 0 1 1 1 0 0 0 0 1 0 1 0 0 0 0 0 0 0 1 1 0 0 0 1 1 1 1 0 0 0 0 1 0 0 0 0\n",
      " 0 0 0 0 0 0 1 1 0 1 0 0 0 1 1 1 1 1 0 0 0 1 0 0 1 1 0 0 1 0 0 0 0 0 0 1 0\n",
      " 0 0 1 0 1 1 1 1 0 0 0 1 0 0 1 1 0 0 1 0 1 0 0 1 1 0 0 0 1 1 0 0 0 0 0 0 1\n",
      " 0 1 0]\n"
     ]
    }
   ],
   "source": [
    "vals = data[0::,1]     #get all values in the 2nd column\n",
    "print data[0::,1].astype(np.int)"
   ]
  },
  {
   "cell_type": "code",
   "execution_count": 68,
   "metadata": {
    "collapsed": true
   },
   "outputs": [],
   "source": [
    "# The size() function counts how many elements are in\n",
    "# in the array and sum() (as you would expects) sums up\n",
    "# the elements in the array.\n",
    "\n",
    "number_passengers = np.size(data[0::,1].astype(np.float))\n",
    "number_survived = np.sum(data[0::,1].astype(np.float))\n",
    "proportion_survivors = number_survived / number_passengers"
   ]
  },
  {
   "cell_type": "code",
   "execution_count": 69,
   "metadata": {
    "collapsed": false
   },
   "outputs": [
    {
     "name": "stdout",
     "output_type": "stream",
     "text": [
      "891\n",
      "342.0\n",
      "0.383838383838\n"
     ]
    }
   ],
   "source": [
    "print number_passengers\n",
    "print number_survived\n",
    "print proportion_survivors"
   ]
  },
  {
   "cell_type": "markdown",
   "metadata": {},
   "source": [
    "Numpy functions"
   ]
  },
  {
   "cell_type": "code",
   "execution_count": 70,
   "metadata": {
    "collapsed": false
   },
   "outputs": [
    {
     "name": "stdout",
     "output_type": "stream",
     "text": [
      "[False  True  True  True False False False False  True  True  True  True\n",
      " False False  True  True False False  True  True False False  True False\n",
      "  True  True False False  True False False  True  True False False False\n",
      " False False  True  True  True  True False  True  True False False  True\n",
      " False  True False False  True  True False False  True False  True False\n",
      " False  True False False False False  True False  True False False  True\n",
      " False False False False False False False  True False False  True False\n",
      "  True  True False False  True False False False False False False False\n",
      " False False  True False  True False False False False False  True False\n",
      " False  True False  True False  True  True False False False False  True\n",
      " False False False  True False False False False  True False False False\n",
      "  True  True False False  True False False False  True  True  True False\n",
      " False False False  True False False False  True False False False False\n",
      "  True False False False False  True False False False False  True  True\n",
      " False False False False  True False False False False  True False False\n",
      "  True False False False  True False  True False False False  True False\n",
      "  True False  True  True False False  True  True False False False False\n",
      " False  True False False  True False False  True False False False  True\n",
      "  True False  True False False False False False False False False False\n",
      " False  True  True False False  True False  True False  True False False\n",
      "  True  True False False False False  True  True False False False  True\n",
      " False False  True  True  True  True  True  True False False False False\n",
      "  True False False False  True  True False False  True False  True  True\n",
      "  True False False  True False False False False False False False False\n",
      " False  True  True  True False  True False False False  True False  True\n",
      "  True False False  True False False  True  True False  True  True  True\n",
      "  True False False  True  True False  True  True False False  True  True\n",
      " False  True False  True  True  True  True False False False  True False\n",
      " False  True False False False  True False False False  True  True  True\n",
      " False False False False False False False False  True  True  True  True\n",
      " False False  True False False False  True  True  True  True False False\n",
      " False False  True  True  True False False False  True  True False  True\n",
      " False False False  True False  True False False False  True  True False\n",
      "  True False False  True False False  True False  True False False False\n",
      " False  True False False  True False False  True  True  True False  True\n",
      " False False False  True False False  True  True False False False  True\n",
      "  True False False  True  True  True False False  True False False  True\n",
      " False False  True False  True False False False False False False False\n",
      " False  True  True False False False False False False False False False\n",
      " False  True False False  True  True  True False False False False  True\n",
      " False False False  True False  True  True False False False False False\n",
      " False False False False  True False  True False False  True  True  True\n",
      "  True False  True False False False False False False  True False False\n",
      "  True False  True False  True False False  True False False  True False\n",
      " False False  True False False  True  True  True False  True False  True\n",
      "  True  True  True False False False  True False False False False False\n",
      " False False  True False  True False  True  True False False False False\n",
      "  True False False  True False False False  True False  True False False\n",
      "  True  True  True False  True  True False False False  True False False\n",
      " False False False  True False  True False False  True False False False\n",
      "  True False False False False False False False  True  True  True False\n",
      "  True False False  True False  True  True False False False False False\n",
      " False False False  True False False False False False False  True  True\n",
      " False False  True False False  True  True False  True False False False\n",
      " False  True False  True False  True  True False False  True False False\n",
      " False False False False False False False False False  True  True False\n",
      " False False False False False  True  True False  True False False False\n",
      " False False False False False  True False  True False False False False\n",
      " False  True False False  True False  True False False False  True False\n",
      "  True False  True False False False False False  True  True False False\n",
      "  True False False False False False  True  True False  True  True False\n",
      " False False False False  True False False False False False  True False\n",
      " False False False  True False False  True False False False  True False\n",
      " False False False  True False False False  True False  True False  True\n",
      " False False False False  True False  True False False  True False  True\n",
      "  True  True False False False False  True False False False False False\n",
      "  True False False False  True  True False  True False  True False False\n",
      " False False False  True False  True False False False  True False False\n",
      "  True False False False  True False False  True False False False False\n",
      " False  True  True False False False False  True False False False False\n",
      " False False  True False False False False False False  True False False\n",
      "  True  True  True  True  True False  True False False False  True  True\n",
      " False  True  True False False False False  True False False  True  True\n",
      " False False False  True  True False  True False False  True False  True\n",
      "  True False False]\n",
      "[ True False False False  True  True  True  True False False False False\n",
      "  True  True False False  True  True False False  True  True False  True\n",
      " False False  True  True False  True  True False False  True  True  True\n",
      "  True  True False False False False  True False False  True  True False\n",
      "  True False  True  True False False  True  True False  True False  True\n",
      "  True False  True  True  True  True False  True False  True  True False\n",
      "  True  True  True  True  True  True  True False  True  True False  True\n",
      " False False  True  True False  True  True  True  True  True  True  True\n",
      "  True  True False  True False  True  True  True  True  True False  True\n",
      "  True False  True False  True False False  True  True  True  True False\n",
      "  True  True  True False  True  True  True  True False  True  True  True\n",
      " False False  True  True False  True  True  True False False False  True\n",
      "  True  True  True False  True  True  True False  True  True  True  True\n",
      " False  True  True  True  True False  True  True  True  True False False\n",
      "  True  True  True  True False  True  True  True  True False  True  True\n",
      " False  True  True  True False  True False  True  True  True False  True\n",
      " False  True False False  True  True False False  True  True  True  True\n",
      "  True False  True  True False  True  True False  True  True  True False\n",
      " False  True False  True  True  True  True  True  True  True  True  True\n",
      "  True False False  True  True False  True False  True False  True  True\n",
      " False False  True  True  True  True False False  True  True  True False\n",
      "  True  True False False False False False False  True  True  True  True\n",
      " False  True  True  True False False  True  True False  True False False\n",
      " False  True  True False  True  True  True  True  True  True  True  True\n",
      "  True False False False  True False  True  True  True False  True False\n",
      " False  True  True False  True  True False False  True False False False\n",
      " False  True  True False False  True False False  True  True False False\n",
      "  True False  True False False False False  True  True  True False  True\n",
      "  True False  True  True  True False  True  True  True False False False\n",
      "  True  True  True  True  True  True  True  True False False False False\n",
      "  True  True False  True  True  True False False False False  True  True\n",
      "  True  True False False False  True  True  True False False  True False\n",
      "  True  True  True False  True False  True  True  True False False  True\n",
      " False  True  True False  True  True False  True False  True  True  True\n",
      "  True False  True  True False  True  True False False False  True False\n",
      "  True  True  True False  True  True False False  True  True  True False\n",
      " False  True  True False False False  True  True False  True  True False\n",
      "  True  True False  True False  True  True  True  True  True  True  True\n",
      "  True False False  True  True  True  True  True  True  True  True  True\n",
      "  True False  True  True False False False  True  True  True  True False\n",
      "  True  True  True False  True False False  True  True  True  True  True\n",
      "  True  True  True  True False  True False  True  True False False False\n",
      " False  True False  True  True  True  True  True  True False  True  True\n",
      " False  True False  True False  True  True False  True  True False  True\n",
      "  True  True False  True  True False False False  True False  True False\n",
      " False False False  True  True  True False  True  True  True  True  True\n",
      "  True  True False  True False  True False False  True  True  True  True\n",
      " False  True  True False  True  True  True False  True False  True  True\n",
      " False False False  True False False  True  True  True False  True  True\n",
      "  True  True  True False  True False  True  True False  True  True  True\n",
      " False  True  True  True  True  True  True  True False False False  True\n",
      " False  True  True False  True False False  True  True  True  True  True\n",
      "  True  True  True False  True  True  True  True  True  True False False\n",
      "  True  True False  True  True False False  True False  True  True  True\n",
      "  True False  True False  True False False  True  True False  True  True\n",
      "  True  True  True  True  True  True  True  True  True False False  True\n",
      "  True  True  True  True  True False False  True False  True  True  True\n",
      "  True  True  True  True  True False  True False  True  True  True  True\n",
      "  True False  True  True False  True False  True  True  True False  True\n",
      " False  True False  True  True  True  True  True False False  True  True\n",
      " False  True  True  True  True  True False False  True False False  True\n",
      "  True  True  True  True False  True  True  True  True  True False  True\n",
      "  True  True  True False  True  True False  True  True  True False  True\n",
      "  True  True  True False  True  True  True False  True False  True False\n",
      "  True  True  True  True False  True False  True  True False  True False\n",
      " False False  True  True  True  True False  True  True  True  True  True\n",
      " False  True  True  True False False  True False  True False  True  True\n",
      "  True  True  True False  True False  True  True  True False  True  True\n",
      " False  True  True  True False  True  True False  True  True  True  True\n",
      "  True False False  True  True  True  True False  True  True  True  True\n",
      "  True  True False  True  True  True  True  True  True False  True  True\n",
      " False False False False False  True False  True  True  True False False\n",
      "  True False False  True  True  True  True False  True  True False False\n",
      "  True  True  True False False  True False  True  True False  True False\n",
      " False  True  True]\n"
     ]
    }
   ],
   "source": [
    "women_only_stats = data[0::,4] == \"female\" #Returns True if val in 5th column is female\n",
    "men_only_stats = data[0::,4] != \"female\"\n",
    "\n",
    "print women_only_stats\n",
    "print men_only_stats"
   ]
  },
  {
   "cell_type": "markdown",
   "metadata": {},
   "source": [
    "We use these two new variables as a \"mask\" on our original train data, so we can select only those women, and only those men on board, then calculate the proportion of those who survived:"
   ]
  },
  {
   "cell_type": "code",
   "execution_count": 71,
   "metadata": {
    "collapsed": false
   },
   "outputs": [
    {
     "name": "stdout",
     "output_type": "stream",
     "text": [
      "314\n",
      "577\n",
      "Proportion of women who survived is 0.742038216561\n",
      "Proportion of men who survived is 0.188908145581\n"
     ]
    }
   ],
   "source": [
    "# Using the index from above we select the females and males separately\n",
    "women_onboard = data[women_only_stats,1].astype(np.float)     #index 1 = survival rate\n",
    "men_onboard = data[men_only_stats,1].astype(np.float)\n",
    "\n",
    "print len(women_onboard)\n",
    "print len(men_onboard)\n",
    "\n",
    "# Then we finds the proportions of them that survived\n",
    "proportion_women_survived = \\\n",
    "                       np.sum(women_onboard) / np.size(women_onboard)  \n",
    "proportion_men_survived = \\\n",
    "                       np.sum(men_onboard) / np.size(men_onboard) \n",
    "\n",
    "# and then print it out\n",
    "print 'Proportion of women who survived is %s' % proportion_women_survived\n",
    "print 'Proportion of men who survived is %s' % proportion_men_survived"
   ]
  },
  {
   "cell_type": "markdown",
   "metadata": {},
   "source": [
    "### Start making predictions!"
   ]
  },
  {
   "cell_type": "code",
   "execution_count": 72,
   "metadata": {
    "collapsed": false
   },
   "outputs": [],
   "source": [
    "test_file = open('data/test.csv', 'rb')\n",
    "test_file_object = csv.reader(test_file)\n",
    "header = test_file_object.next()\n",
    "\n",
    "prediction_file = open(\"data/genderclasspredictions.csv\", \"wb\")\n",
    "prediction_file_object = csv.writer(prediction_file)"
   ]
  },
  {
   "cell_type": "markdown",
   "metadata": {
    "collapsed": true
   },
   "source": [
    "### Normalize Data w Bins"
   ]
  },
  {
   "cell_type": "code",
   "execution_count": 73,
   "metadata": {
    "collapsed": true
   },
   "outputs": [],
   "source": [
    "# In order to analyse the price column I need to bin up that data\n",
    "# here are my binning parameters, the problem we face is some of the fares are very large\n",
    "# So we can either have a lot of bins with nothing in them or we can just lose some\n",
    "# information by just considering that anythng over 39 is simply in the last bin.\n",
    "# So we add a ceiling\n",
    "fare_ceiling = 40\n",
    "# then modify the data in the Fare column to = 39, if it is greater or equal to the ceiling\n",
    "data[ data[0::,9].astype(np.float) >= fare_ceiling, 9 ] = fare_ceiling - 1.0\n",
    "\n",
    "fare_bracket_size = 10\n",
    "number_of_price_brackets = fare_ceiling / fare_bracket_size\n",
    "number_of_classes = 3                             # I know there were 1st, 2nd and 3rd classes on board.\n",
    "number_of_classes = len(np.unique(data[0::,2]))   # But it's better practice to calculate this from the Pclass directly:\n",
    "                                                  # just take the length of an array of UNIQUE values in column index 2"
   ]
  },
  {
   "cell_type": "markdown",
   "metadata": {},
   "source": [
    "### Creating a Survival Reference Table"
   ]
  },
  {
   "cell_type": "code",
   "execution_count": 74,
   "metadata": {
    "collapsed": false
   },
   "outputs": [
    {
     "name": "stdout",
     "output_type": "stream",
     "text": [
      "[[[ 0.  0.  0.  0.]\n",
      "  [ 0.  0.  0.  0.]\n",
      "  [ 0.  0.  0.  0.]]\n",
      "\n",
      " [[ 0.  0.  0.  0.]\n",
      "  [ 0.  0.  0.  0.]\n",
      "  [ 0.  0.  0.  0.]]]\n",
      "\n",
      "Survival Reference Table We Use To Lookup a Passengers expected survival\n",
      "[[[        nan         nan  0.83333333  0.97727273]\n",
      "  [        nan  0.91428571  0.9         1.        ]\n",
      "  [ 0.59375     0.58139535  0.33333333  0.125     ]]\n",
      "\n",
      " [[ 0.                 nan  0.4         0.38372093]\n",
      "  [ 0.          0.15873016  0.16        0.21428571]\n",
      "  [ 0.11153846  0.23684211  0.125       0.24      ]]]\n",
      "\n",
      "Rounding To Nearest Survival Rating: 0 or 1\n",
      "[[[ 0.  0.  1.  1.]\n",
      "  [ 0.  1.  1.  1.]\n",
      "  [ 1.  1.  0.  0.]]\n",
      "\n",
      " [[ 0.  0.  0.  0.]\n",
      "  [ 0.  0.  0.  0.]\n",
      "  [ 0.  0.  0.  0.]]]\n"
     ]
    }
   ],
   "source": [
    "# This reference matrix will show the proportion of survivors as a sorted table of\n",
    "# gender, class and ticket fare.\n",
    "# First initialize it with all zeros\n",
    "survival_table = np.zeros([2,number_of_classes,number_of_price_brackets],float) #returns [nested [arrays]] of all 0s\n",
    "print survival_table\n",
    "\n",
    "# I can now find the stats of all the women and men on board\n",
    "for i in xrange(number_of_classes):                                 #xrange uses generators + yield behind the scenes. Good for large data sets.\n",
    "    for j in xrange(number_of_price_brackets):\n",
    "\n",
    "        women_only_stats = data[ (data[0::,4] == \"female\") \\\n",
    "                                 & (data[0::,2].astype(np.float) == i+1) \\\n",
    "                                 & (data[0:,9].astype(np.float) >= j*fare_bracket_size) \\\n",
    "                                 & (data[0:,9].astype(np.float) < (j+1)*fare_bracket_size), 1]\n",
    "\n",
    "        men_only_stats = data[ (data[0::,4] != \"female\") \\\n",
    "                                 & (data[0::,2].astype(np.float) == i+1) \\\n",
    "                                 & (data[0:,9].astype(np.float) >= j*fare_bracket_size) \\\n",
    "                                 & (data[0:,9].astype(np.float) < (j+1)*fare_bracket_size), 1]\n",
    "\n",
    "                                 #if i == 0 and j == 3:\n",
    "\n",
    "        survival_table[0,i,j] = np.mean(women_only_stats.astype(np.float))  # Female stats\n",
    "        survival_table[1,i,j] = np.mean(men_only_stats.astype(np.float))    # Male stats\n",
    "\n",
    "#They use an array, but a dictionary would be easier to read        \n",
    "print \"\\nSurvival Reference Table We Use To Lookup a Passengers expected survival\"\n",
    "print survival_table\n",
    "\n",
    "#Remove nan values\n",
    "survival_table[ survival_table != survival_table ] = 0\n",
    "\n",
    "print \"\\nRounding To Nearest Survival Rating: 0 or 1\"\n",
    "survival_table[ survival_table < 0.5 ] = 0\n",
    "survival_table[ survival_table >= 0.5 ] = 1 \n",
    "print survival_table"
   ]
  },
  {
   "cell_type": "markdown",
   "metadata": {},
   "source": [
    "### Writing The Predictions File"
   ]
  },
  {
   "cell_type": "code",
   "execution_count": 78,
   "metadata": {
    "collapsed": true
   },
   "outputs": [],
   "source": [
    "test_file = open('data/test.csv', 'rb')\n",
    "test_file_object = csv.reader(test_file)\n",
    "header = test_file_object.next()\n",
    "predictions_file = open(\"data/genderclasspredictions.csv\", \"wb\")\n",
    "p = csv.writer(predictions_file)\n",
    "p.writerow([\"PassengerId\", \"Survived\"])"
   ]
  },
  {
   "cell_type": "code",
   "execution_count": 79,
   "metadata": {
    "collapsed": false
   },
   "outputs": [
    {
     "name": "stderr",
     "output_type": "stream",
     "text": [
      "/Users/Brendan/anaconda2/lib/python2.7/site-packages/ipykernel/__main__.py:27: VisibleDeprecationWarning: using a non-integer number instead of an integer will result in an error in the future\n",
      "/Users/Brendan/anaconda2/lib/python2.7/site-packages/ipykernel/__main__.py:25: VisibleDeprecationWarning: using a non-integer number instead of an integer will result in an error in the future\n"
     ]
    }
   ],
   "source": [
    "for row in test_file_object:                 # We are going to loop\n",
    "                                              # through each passenger\n",
    "                                              # in the test set                     \n",
    "    #FIND THE RIGHT FARE BIN\n",
    "    for j in xrange(number_of_price_brackets):  # For each passenger we\n",
    "                                                  # loop thro each price bin\n",
    "        try:                                      # Some passengers have no\n",
    "                                                  # Fare data so try to make\n",
    "          row[8] = float(row[8])                  # a float\n",
    "        except:                                   # If fails: no data, so \n",
    "          bin_fare = 3 - float(row[1])            # bin the fare according Pclass\n",
    "          break                                   # Break from the loop\n",
    "        if row[8] > fare_ceiling:              # If there is data see if\n",
    "                                                  # it is greater than fare\n",
    "                                                  # ceiling we set earlier\n",
    "          bin_fare = number_of_price_brackets-1   # If so set to highest bin\n",
    "          break                                   # And then break loop\n",
    "        if row[8] >= j * fare_bracket_size\\\n",
    "           and row[8] < \\\n",
    "           (j+1) * fare_bracket_size:             # If passed these tests \n",
    "                                                  # then loop through each bin \n",
    "          bin_fare = j                            # then assign index\n",
    "          break\n",
    "    \n",
    "    #USE THE LOOKUP TABLE\n",
    "    if row[3] == 'female':                             #If the passenger is female\n",
    "        p.writerow([row[0], \"%d\" % \\\n",
    "            int(survival_table[0, float(row[1])-1, bin_fare])])\n",
    "    else:                                          #else if male\n",
    "        p.writerow([row[0], \"%d\" % \\\n",
    "            int(survival_table[1, float(row[1])-1, bin_fare])])\n",
    "\n",
    "# Close out the files.\n",
    "test_file.close() \n",
    "predictions_file.close()"
   ]
  },
  {
   "cell_type": "code",
   "execution_count": null,
   "metadata": {
    "collapsed": true
   },
   "outputs": [],
   "source": []
  }
 ],
 "metadata": {
  "anaconda-cloud": {},
  "kernelspec": {
   "display_name": "Python [conda root]",
   "language": "python",
   "name": "conda-root-py"
  },
  "language_info": {
   "codemirror_mode": {
    "name": "ipython",
    "version": 2
   },
   "file_extension": ".py",
   "mimetype": "text/x-python",
   "name": "python",
   "nbconvert_exporter": "python",
   "pygments_lexer": "ipython2",
   "version": "2.7.12"
  }
 },
 "nbformat": 4,
 "nbformat_minor": 1
}
